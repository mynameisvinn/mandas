{
 "cells": [
  {
   "cell_type": "code",
   "execution_count": 104,
   "metadata": {},
   "outputs": [],
   "source": [
    "import numpy as np\n",
    "\n",
    "class Matrix():\n",
    "    def __init__(self, matrix):\n",
    "        self.matrix = self.create_rows(matrix)\n",
    "        _ = self.create_col(matrix)\n",
    "        \n",
    "    def create_rows(self, matrix):\n",
    "        row_labels = {}\n",
    "        for i, row in enumerate(matrix):\n",
    "            row_labels[i + 1] = row  # 1 index not 0\n",
    "        return row_labels\n",
    "    \n",
    "    def create_col(self, matrix):\n",
    "        self.col_labels = {}  # k = matrix label, v = corresponding list position\n",
    "        for i in range(len(matrix[0])):\n",
    "            self.col_labels[i + 1] = i\n",
    "        \n",
    "    def remove(self, p):\n",
    "        # remove row from matrix\n",
    "        self.matrix.pop(p)\n",
    "        \n",
    "        # identify idx to be removed\n",
    "        idx_of_element_to_be_removed = self.col_labels[p]\n",
    "        \n",
    "        # remove the appropriate element\n",
    "        for k, v in self.matrix.items():\n",
    "            v.pop(idx_of_element_to_be_removed)\n",
    "            \n",
    "        # now update column labels\n",
    "        self.col_labels.pop(p)\n",
    "        for k, v in self.col_labels.items():\n",
    "            if k > p:\n",
    "                self.col_labels[k] -= 1\n",
    "                \n",
    "    def view(self):\n",
    "        # sort keys\n",
    "        sorted_keys = sorted(self.matrix.keys())\n",
    "        \n",
    "        m = np.array([self.matrix[k] for k in sorted_keys])\n",
    "        return m"
   ]
  },
  {
   "cell_type": "code",
   "execution_count": 105,
   "metadata": {},
   "outputs": [],
   "source": [
    "M = Matrix([[1,2,3], \n",
    "            [2,0,4], \n",
    "            [2,6,2]])"
   ]
  },
  {
   "cell_type": "code",
   "execution_count": 106,
   "metadata": {},
   "outputs": [],
   "source": [
    "M.remove(3)"
   ]
  },
  {
   "cell_type": "code",
   "execution_count": 107,
   "metadata": {},
   "outputs": [
    {
     "data": {
      "text/plain": [
       "{1: [1, 2], 2: [2, 0]}"
      ]
     },
     "execution_count": 107,
     "metadata": {},
     "output_type": "execute_result"
    }
   ],
   "source": [
    "M.matrix"
   ]
  },
  {
   "cell_type": "code",
   "execution_count": 108,
   "metadata": {},
   "outputs": [
    {
     "data": {
      "text/plain": [
       "{1: 0, 2: 1}"
      ]
     },
     "execution_count": 108,
     "metadata": {},
     "output_type": "execute_result"
    }
   ],
   "source": [
    "M.col_labels"
   ]
  },
  {
   "cell_type": "code",
   "execution_count": 109,
   "metadata": {},
   "outputs": [
    {
     "data": {
      "text/plain": [
       "array([[1, 2],\n",
       "       [2, 0]])"
      ]
     },
     "execution_count": 109,
     "metadata": {},
     "output_type": "execute_result"
    }
   ],
   "source": [
    "M.view()"
   ]
  },
  {
   "cell_type": "code",
   "execution_count": null,
   "metadata": {},
   "outputs": [],
   "source": []
  }
 ],
 "metadata": {
  "kernelspec": {
   "display_name": "Python 3",
   "language": "python",
   "name": "python3"
  },
  "language_info": {
   "codemirror_mode": {
    "name": "ipython",
    "version": 3
   },
   "file_extension": ".py",
   "mimetype": "text/x-python",
   "name": "python",
   "nbconvert_exporter": "python",
   "pygments_lexer": "ipython3",
   "version": "3.7.6"
  }
 },
 "nbformat": 4,
 "nbformat_minor": 4
}
