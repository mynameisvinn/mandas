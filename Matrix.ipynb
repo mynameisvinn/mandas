{
 "cells": [
  {
   "cell_type": "code",
   "execution_count": 92,
   "metadata": {},
   "outputs": [],
   "source": [
    "import numpy as np\n",
    "\n",
    "def dot(a, b):\n",
    "    if isinstance(a, Matrix):\n",
    "        a = a.value\n",
    "    if isinstance(b, Matrix):\n",
    "        b = b.value\n",
    "    return np.dot(a, b)\n",
    "\n",
    "class Matrix():\n",
    "    def __init__(self, matrix):\n",
    "        self.matrix = self.convert(matrix)\n",
    "        _ = self.create_col(matrix)\n",
    "        \n",
    "    def convert(self, matrix):\n",
    "        \"\"\"convert list of lists into dictionary of lists. \n",
    "        \"\"\"\n",
    "        row_labels = {}\n",
    "        for i, row in enumerate(matrix):\n",
    "            row_labels[i + 1] = row  # 1 index not 0\n",
    "        return row_labels\n",
    "    \n",
    "    def create_col(self, matrix):\n",
    "        self.col_labels = {}  # k = matrix label, v = corresponding list position\n",
    "        for i in range(len(matrix[0])):\n",
    "            self.col_labels[i + 1] = i\n",
    "        \n",
    "    def pop(self, p):\n",
    "        \"\"\"remove row/col index from matrix.\n",
    "        \"\"\"\n",
    "        if p not in self.matrix.keys():\n",
    "            raise Exception('row does not exist')\n",
    "        \n",
    "        # remove row from matrix dict\n",
    "        self.matrix.pop(p)\n",
    "        \n",
    "        # identify col idx to be removed\n",
    "        idx_of_element_to_be_removed = self.col_labels[p]\n",
    "        \n",
    "        # remove the appropriate element from each row\n",
    "        for k, v in self.matrix.items():\n",
    "            v.pop(idx_of_element_to_be_removed)\n",
    "            \n",
    "        # update column labels\n",
    "        self.col_labels.pop(p)  # remove from column label dictionary\n",
    "        for k, v in self.col_labels.items():\n",
    "            if k > p:\n",
    "                self.col_labels[k] -= 1\n",
    "            \n",
    "                \n",
    "    @property\n",
    "    def value(self):\n",
    "        \"\"\"updated matrix in numpy form\n",
    "        \"\"\"\n",
    "        # sort keys, which represent rows\n",
    "        sorted_keys = sorted(self.matrix.keys())\n",
    "        m = np.array([self.matrix[k] for k in sorted_keys])\n",
    "        return m\n",
    "    \n",
    "    @property\n",
    "    def labels(self):\n",
    "        return list(self.matrix.keys())"
   ]
  },
  {
   "cell_type": "code",
   "execution_count": 93,
   "metadata": {},
   "outputs": [],
   "source": [
    "M = Matrix([[0,0,0,1,0], \n",
    "            [0,0,0,0,1], \n",
    "            [0,0,0,1,1], \n",
    "            [1,0,1,0,0], \n",
    "            [0,1,1,0,0]])"
   ]
  },
  {
   "cell_type": "code",
   "execution_count": 108,
   "metadata": {},
   "outputs": [],
   "source": [
    "c = np.array([0,1,0,0,0])"
   ]
  },
  {
   "cell_type": "code",
   "execution_count": 95,
   "metadata": {},
   "outputs": [
    {
     "data": {
      "text/plain": [
       "array([0, 0, 0, 0, 1])"
      ]
     },
     "execution_count": 95,
     "metadata": {},
     "output_type": "execute_result"
    }
   ],
   "source": [
    "dot(M, c)"
   ]
  },
  {
   "cell_type": "code",
   "execution_count": 96,
   "metadata": {},
   "outputs": [],
   "source": [
    "# pop out 2\n",
    "M.pop(2)"
   ]
  },
  {
   "cell_type": "code",
   "execution_count": 97,
   "metadata": {},
   "outputs": [
    {
     "data": {
      "text/plain": [
       "array([[0, 0, 1, 0],\n",
       "       [0, 0, 1, 1],\n",
       "       [1, 1, 0, 0],\n",
       "       [0, 1, 0, 0]])"
      ]
     },
     "execution_count": 97,
     "metadata": {},
     "output_type": "execute_result"
    }
   ],
   "source": [
    "M.value"
   ]
  },
  {
   "cell_type": "code",
   "execution_count": 98,
   "metadata": {},
   "outputs": [],
   "source": [
    "c = np.array([0,0,0,1])"
   ]
  },
  {
   "cell_type": "code",
   "execution_count": 99,
   "metadata": {},
   "outputs": [
    {
     "data": {
      "text/plain": [
       "array([0, 1, 0, 0])"
      ]
     },
     "execution_count": 99,
     "metadata": {},
     "output_type": "execute_result"
    }
   ],
   "source": [
    "dot(M, c)"
   ]
  },
  {
   "cell_type": "code",
   "execution_count": 100,
   "metadata": {},
   "outputs": [],
   "source": [
    "# pop out 5\n",
    "M.pop(5)"
   ]
  },
  {
   "cell_type": "code",
   "execution_count": 101,
   "metadata": {},
   "outputs": [
    {
     "data": {
      "text/plain": [
       "array([[0, 0, 1],\n",
       "       [0, 0, 1],\n",
       "       [1, 1, 0]])"
      ]
     },
     "execution_count": 101,
     "metadata": {},
     "output_type": "execute_result"
    }
   ],
   "source": [
    "M.value"
   ]
  },
  {
   "cell_type": "code",
   "execution_count": 102,
   "metadata": {},
   "outputs": [],
   "source": [
    "c = np.array([0,1,0])"
   ]
  },
  {
   "cell_type": "code",
   "execution_count": 103,
   "metadata": {},
   "outputs": [
    {
     "data": {
      "text/plain": [
       "array([0, 0, 1])"
      ]
     },
     "execution_count": 103,
     "metadata": {},
     "output_type": "execute_result"
    }
   ],
   "source": [
    "dot(M, c)"
   ]
  },
  {
   "cell_type": "code",
   "execution_count": 104,
   "metadata": {},
   "outputs": [],
   "source": [
    "# pop out 3\n",
    "M.pop(3)"
   ]
  },
  {
   "cell_type": "code",
   "execution_count": 105,
   "metadata": {},
   "outputs": [
    {
     "data": {
      "text/plain": [
       "array([[0, 1],\n",
       "       [1, 0]])"
      ]
     },
     "execution_count": 105,
     "metadata": {},
     "output_type": "execute_result"
    }
   ],
   "source": [
    "M.value"
   ]
  },
  {
   "cell_type": "code",
   "execution_count": 106,
   "metadata": {},
   "outputs": [],
   "source": [
    "c = np.array([0,1])"
   ]
  },
  {
   "cell_type": "code",
   "execution_count": 107,
   "metadata": {},
   "outputs": [
    {
     "data": {
      "text/plain": [
       "array([1, 0])"
      ]
     },
     "execution_count": 107,
     "metadata": {},
     "output_type": "execute_result"
    }
   ],
   "source": [
    "dot(M, c)"
   ]
  },
  {
   "cell_type": "code",
   "execution_count": 110,
   "metadata": {},
   "outputs": [
    {
     "data": {
      "text/plain": [
       "{'matrix': {1: [0, 1], 4: [1, 0]}, 'col_labels': {1: 0, 4: 1}}"
      ]
     },
     "execution_count": 110,
     "metadata": {},
     "output_type": "execute_result"
    }
   ],
   "source": [
    "M.__dict__"
   ]
  },
  {
   "cell_type": "code",
   "execution_count": null,
   "metadata": {},
   "outputs": [],
   "source": []
  }
 ],
 "metadata": {
  "kernelspec": {
   "display_name": "Python 3",
   "language": "python",
   "name": "python3"
  },
  "language_info": {
   "codemirror_mode": {
    "name": "ipython",
    "version": 3
   },
   "file_extension": ".py",
   "mimetype": "text/x-python",
   "name": "python",
   "nbconvert_exporter": "python",
   "pygments_lexer": "ipython3",
   "version": "3.7.6"
  }
 },
 "nbformat": 4,
 "nbformat_minor": 4
}
